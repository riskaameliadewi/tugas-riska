{
 "cells": [
  {
   "cell_type": "code",
   "execution_count": 8,
   "id": "ebe4ac13-0de1-481a-bc40-4ed9abfb6832",
   "metadata": {},
   "outputs": [
    {
     "ename": "ModuleNotFoundError",
     "evalue": "No module named 'matplotlib'",
     "output_type": "error",
     "traceback": [
      "\u001b[31m---------------------------------------------------------------------------\u001b[39m",
      "\u001b[31mModuleNotFoundError\u001b[39m                       Traceback (most recent call last)",
      "\u001b[36mCell\u001b[39m\u001b[36m \u001b[39m\u001b[32mIn[8]\u001b[39m\u001b[32m, line 4\u001b[39m\n\u001b[32m      2\u001b[39m \u001b[38;5;28;01mimport\u001b[39;00m\u001b[38;5;250m \u001b[39m\u001b[34;01mcv2\u001b[39;00m\n\u001b[32m      3\u001b[39m \u001b[38;5;28;01mimport\u001b[39;00m\u001b[38;5;250m \u001b[39m\u001b[34;01mnumpy\u001b[39;00m\u001b[38;5;250m \u001b[39m\u001b[38;5;28;01mas\u001b[39;00m\u001b[38;5;250m \u001b[39m\u001b[34;01mnp\u001b[39;00m\n\u001b[32m----> \u001b[39m\u001b[32m4\u001b[39m \u001b[38;5;28;01mimport\u001b[39;00m\u001b[38;5;250m \u001b[39m\u001b[34;01mmatplotlib\u001b[39;00m\u001b[34;01m.\u001b[39;00m\u001b[34;01mpyplot\u001b[39;00m\u001b[38;5;250m \u001b[39m\u001b[38;5;28;01mas\u001b[39;00m\u001b[38;5;250m \u001b[39m\u001b[34;01mplt\u001b[39;00m\n\u001b[32m      5\u001b[39m \u001b[38;5;28;01mimport\u001b[39;00m\u001b[38;5;250m \u001b[39m\u001b[34;01mos\u001b[39;00m\n\u001b[32m      7\u001b[39m \u001b[38;5;66;03m# 2. Baca gambar dari file lokal (pastikan path ini sesuai!)\u001b[39;00m\n",
      "\u001b[31mModuleNotFoundError\u001b[39m: No module named 'matplotlib'"
     ]
    }
   ],
   "source": [
    "# 1. Import Library\n",
    "import cv2\n",
    "import numpy as np\n",
    "import matplotlib.pyplot as plt\n",
    "import os\n",
    "\n",
    "# 2. Baca gambar dari file lokal (pastikan path ini sesuai!)\n",
    "image1_path = r\"C:\\Users\\Who Am I\\tugas riska\\1-checkpoint.jpg\"\n",
    "image2_path = r\"C:\\Users\\Who Am I\\tugas riska\\2-checkpoint.jpg\"\n",
    "\n",
    "image1 = cv2.imread(image1_path, cv2.IMREAD_GRAYSCALE)\n",
    "image2 = cv2.imread(image2_path, cv2.IMREAD_GRAYSCALE)\n",
    "\n",
    "# 3. Periksa apakah gambar terbaca\n",
    "if image1 is None or image2 is None:\n",
    "    print(\"❌ Gambar tidak ditemukan. Pastikan nama file dan path sudah benar.\")\n",
    "else:\n",
    "    print(\"✅ Gambar berhasil dimuat.\")\n",
    "\n",
    "    # 4. Buat kernel untuk dilasi\n",
    "    kernel = np.ones((5, 5), np.uint8)\n",
    "\n",
    "    # 5. Proses dilasi\n",
    "    dilated1 = cv2.dilate(image1, kernel, iterations=1)\n",
    "    dilated2 = cv2.dilate(image2, kernel, iterations=1)\n",
    "\n",
    "    # 6. Simpan hasil\n",
    "    output_folder = r\"C:\\Users\\Who Am I\\tugas riska\"\n",
    "    cv2.imwrite(os.path.join(output_folder, \"dilated_1.jpg\"), dilated1)\n",
    "    cv2.imwrite(os.path.join(output_folder, \"dilated_2.jpg\"), dilated2)\n",
    "\n",
    "    print(\"✅ Hasil dilasi berhasil disimpan.\")\n",
    "\n",
    "    # 7. Tampilkan hasil\n",
    "    plt.figure(figsize=(10, 4))\n",
    "\n",
    "    plt.subplot(2, 2, 1)\n",
    "    plt.imshow(image1, cmap='gray')\n",
    "    plt.title(\"Original Gambar 1\")\n",
    "    plt.axis(\"off\")\n",
    "\n",
    "    plt.subplot(2, 2, 2)\n",
    "    plt.imshow(dilated1, cmap='gray')\n",
    "    plt.title(\"Dilated Gambar 1\")\n",
    "    plt.axis(\"off\")\n",
    "\n",
    "    plt.subplot(2, 2, 3)\n",
    "    plt.imshow(image2, cmap='gray')\n",
    "    plt.title(\"Original Gambar 2\")\n",
    "    plt.axis(\"off\")\n",
    "\n",
    "    plt.subplot(2, 2, 4)\n",
    "    plt.imshow(dilated2, cmap='gray')\n",
    "    plt.title(\"Dilated Gambar 2\")\n",
    "    plt.axis(\"off\")\n",
    "\n",
    "    plt.tight_layout()\n",
    "    plt.show()\n"
   ]
  },
  {
   "cell_type": "code",
   "execution_count": null,
   "id": "539604f7-1706-4a4b-a44b-ad8738257463",
   "metadata": {},
   "outputs": [],
   "source": []
  },
  {
   "cell_type": "code",
   "execution_count": null,
   "id": "415e90bb-8963-4d3b-aa1f-a71365d6a9ac",
   "metadata": {},
   "outputs": [],
   "source": []
  },
  {
   "cell_type": "code",
   "execution_count": null,
   "id": "520a30ff-c290-4db2-8ac4-8303dafa366f",
   "metadata": {},
   "outputs": [],
   "source": []
  }
 ],
 "metadata": {
  "kernelspec": {
   "display_name": "Python 3 (ipykernel)",
   "language": "python",
   "name": "python3"
  },
  "language_info": {
   "codemirror_mode": {
    "name": "ipython",
    "version": 3
   },
   "file_extension": ".py",
   "mimetype": "text/x-python",
   "name": "python",
   "nbconvert_exporter": "python",
   "pygments_lexer": "ipython3",
   "version": "3.13.3"
  }
 },
 "nbformat": 4,
 "nbformat_minor": 5
}
