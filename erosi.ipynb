{
 "cells": [
  {
   "cell_type": "code",
   "execution_count": null,
   "id": "39c31646-cb09-440d-b91c-d42453d3b3e8",
   "metadata": {},
   "outputs": [],
   "source": [
    "import cv2\n",
    "import numpy as np\n",
    "import matplotlib.pyplot as plt\n",
    "import os\n",
    "\n",
    "# Fungsi untuk membaca gambar dan melakukan erosi\n",
    "def proses_erosi(nama_file):\n",
    "    if not os.path.exists(nama_file):\n",
    "        print(f\"File '{nama_file}' tidak ditemukan.\")\n",
    "        return None, None\n",
    "\n",
    "    # Baca gambar dalam grayscale\n",
    "    image = cv2.imread(nama_file, cv2.IMREAD_GRAYSCALE)\n",
    "\n",
    "    # Kernel 5x5\n",
    "    kernel = np.ones((5, 5), np.uint8)\n",
    "\n",
    "    # Lakukan operasi erosi\n",
    "    erosi = cv2.erode(image, kernel, iterations=1)\n",
    "\n",
    "    return image, erosi\n",
    "\n",
    "# Proses gambar 1\n",
    "img1, hasil_erosi1 = proses_erosi('1.png')\n",
    "\n",
    "# Proses gambar 2\n",
    "img2, hasil_erosi2 = proses_erosi('2.png')\n",
    "\n",
    "# Tampilkan hasil\n",
    "plt.figure(figsize=(12, 6))\n",
    "\n",
    "if img1 is not None:\n",
    "    plt.subplot(2, 2, 1)\n",
    "    plt.title(\"1.png - Asli\")\n",
    "    plt.imshow(img1, cmap='gray')\n",
    "    plt.axis('off')\n",
    "\n",
    "    plt.subplot(2, 2, 2)\n",
    "    plt.title(\"1.png - Erosi\")\n",
    "    plt.imshow(hasil_erosi1, cmap='gray')\n",
    "    plt.axis('off')\n",
    "\n",
    "if img2 is not None:\n",
    "    plt.subplot(2, 2, 3)\n",
    "    plt.title(\"2.png - Asli\")\n",
    "    plt.imshow(img2, cmap='gray')\n",
    "    plt.axis('off')\n",
    "\n",
    "    plt.subplot(2, 2, 4)\n",
    "    plt.title(\"2.png - Erosi\")\n",
    "    plt.imshow(hasil_erosi2, cmap='gray')\n",
    "    plt.axis('off')\n",
    "\n",
    "plt.tight_layout()\n",
    "plt.show()\n"
   ]
  }
 ],
 "metadata": {
  "kernelspec": {
   "display_name": "Python 3 (ipykernel)",
   "language": "python",
   "name": "python3"
  },
  "language_info": {
   "codemirror_mode": {
    "name": "ipython",
    "version": 3
   },
   "file_extension": ".py",
   "mimetype": "text/x-python",
   "name": "python",
   "nbconvert_exporter": "python",
   "pygments_lexer": "ipython3",
   "version": "3.13.3"
  }
 },
 "nbformat": 4,
 "nbformat_minor": 5
}
